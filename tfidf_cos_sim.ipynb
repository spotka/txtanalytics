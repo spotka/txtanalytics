{
  "nbformat": 4,
  "nbformat_minor": 0,
  "metadata": {
    "colab": {
      "provenance": [],
      "collapsed_sections": [],
      "include_colab_link": true
    },
    "kernelspec": {
      "name": "python3",
      "display_name": "Python 3"
    },
    "language_info": {
      "name": "python"
    }
  },
  "cells": [
    {
      "cell_type": "markdown",
      "metadata": {
        "id": "view-in-github",
        "colab_type": "text"
      },
      "source": [
        "<a href=\"https://colab.research.google.com/github/thomouvic/txtanalytics/blob/main/tfidf_cos_sim.ipynb\" target=\"_parent\"><img src=\"https://colab.research.google.com/assets/colab-badge.svg\" alt=\"Open In Colab\"/></a>"
      ]
    },
    {
      "cell_type": "code",
      "source": [
        "!wget https://raw.githubusercontent.com/thomouvic/txtanalytics/main/docnames.csv\n",
        "!wget https://github.com/thomouvic/txtanalytics/raw/main/docvecs.csv"
      ],
      "metadata": {
        "id": "3H3HYC4yFdqK",
        "colab": {
          "base_uri": "https://localhost:8080/"
        },
        "outputId": "c48ad8cb-cfca-438a-cdd2-ee827b509a04"
      },
      "execution_count": 2,
      "outputs": [
        {
          "output_type": "stream",
          "name": "stdout",
          "text": [
            "--2022-11-14 00:28:11--  https://raw.githubusercontent.com/thomouvic/txtanalytics/main/docnames.csv\n",
            "Resolving raw.githubusercontent.com (raw.githubusercontent.com)... 185.199.108.133, 185.199.109.133, 185.199.110.133, ...\n",
            "Connecting to raw.githubusercontent.com (raw.githubusercontent.com)|185.199.108.133|:443... connected.\n",
            "HTTP request sent, awaiting response... 200 OK\n",
            "Length: 10660 (10K) [text/plain]\n",
            "Saving to: ‘docnames.csv’\n",
            "\n",
            "docnames.csv        100%[===================>]  10.41K  --.-KB/s    in 0s      \n",
            "\n",
            "2022-11-14 00:28:11 (42.2 MB/s) - ‘docnames.csv’ saved [10660/10660]\n",
            "\n",
            "--2022-11-14 00:28:11--  https://github.com/thomouvic/txtanalytics/raw/main/docvecs.csv\n",
            "Resolving github.com (github.com)... 20.27.177.113\n",
            "Connecting to github.com (github.com)|20.27.177.113|:443... connected.\n",
            "HTTP request sent, awaiting response... 302 Found\n",
            "Location: https://raw.githubusercontent.com/thomouvic/txtanalytics/main/docvecs.csv [following]\n",
            "--2022-11-14 00:28:12--  https://raw.githubusercontent.com/thomouvic/txtanalytics/main/docvecs.csv\n",
            "Resolving raw.githubusercontent.com (raw.githubusercontent.com)... 185.199.108.133, 185.199.109.133, 185.199.110.133, ...\n",
            "Connecting to raw.githubusercontent.com (raw.githubusercontent.com)|185.199.108.133|:443... connected.\n",
            "HTTP request sent, awaiting response... 200 OK\n",
            "Length: 8682301 (8.3M) [text/plain]\n",
            "Saving to: ‘docvecs.csv’\n",
            "\n",
            "docvecs.csv         100%[===================>]   8.28M  --.-KB/s    in 0.1s    \n",
            "\n",
            "2022-11-14 00:28:13 (77.6 MB/s) - ‘docvecs.csv’ saved [8682301/8682301]\n",
            "\n"
          ]
        }
      ]
    },
    {
      "cell_type": "code",
      "source": [
        "import pandas as pd\n",
        "\n",
        "df_docnames = pd.read_csv('docnames.csv')\n",
        "# print(df_docnames)\n",
        "\n",
        "df3 = pd.read_csv('docvecs.csv')\n",
        "# print(df3)\n",
        "\n",
        "# top k number of words to use for similarity\n",
        "k = 100\n",
        "\n",
        "# only consider the top k for each doc\n",
        "df4 = df3.groupby(by='docid').head(k)\n",
        "# print(df4) "
      ],
      "metadata": {
        "id": "qSsSOrQeiZOK"
      },
      "execution_count": 4,
      "outputs": []
    },
    {
      "cell_type": "code",
      "source": [
        "# A: # Given a docname find similar documents using cosine similarity on tfidf vectors\n",
        "docname_given = 'txts/Arbuckle-Christie-Siemens_IntroductionSRC7.2_11-15-16.txt'"
      ],
      "metadata": {
        "id": "vPe_o6NZhaaG"
      },
      "execution_count": 1,
      "outputs": []
    },
    {
      "cell_type": "code",
      "source": [
        "# Find docid for this docname_given.\n",
        "docid = df_docnames[ df_docnames['docname']==docname_given ].iloc[0,1]\n",
        "# print(docid)\n",
        "\n",
        "# Find docvec for this docid.\n",
        "docvec = df4[ df4['docid'] == docid ]\n",
        "# print(docvec)\n",
        "\n",
        "# Find the docvecs of docs that contain one of the terms in this docvec. \n",
        "# Only the rows of df4 that contain one of these terms are relevant for cosine similarity. \n",
        "# Then, remove rows with docid same as the document we are given \n",
        "# because we don't want to show the doc itself being similar to itself. \n",
        "relevant_docvecs = df4.merge(docvec[['termid', 'score']], on='termid') # this is an inner join \n",
        "relevant_docvecs = relevant_docvecs[ relevant_docvecs['docid'] != docid ]\n",
        "relevant_docvecs = relevant_docvecs.sort_values(['docid'])\n",
        "relevant_docvecs['scoremult'] = relevant_docvecs['score_x']*relevant_docvecs['score_y']\n",
        "# print(relevant_docvecs)\n",
        "simdocs = relevant_docvecs.groupby(by='docid')['scoremult'].sum().sort_values(ascending=False)\n",
        "print(simdocs)"
      ],
      "metadata": {
        "id": "pEtIap0sdBir",
        "colab": {
          "base_uri": "https://localhost:8080/"
        },
        "outputId": "4688ffbe-a856-4c7a-d93b-17b7844ffb93"
      },
      "execution_count": 14,
      "outputs": [
        {
          "output_type": "stream",
          "name": "stdout",
          "text": [
            "docid\n",
            "7      0.351171\n",
            "6      0.270747\n",
            "5      0.184882\n",
            "12     0.183604\n",
            "99     0.150295\n",
            "         ...   \n",
            "73     0.001926\n",
            "117    0.001669\n",
            "63     0.001176\n",
            "62     0.000933\n",
            "0      0.000831\n",
            "Name: scoremult, Length: 103, dtype: float64\n"
          ]
        }
      ]
    },
    {
      "cell_type": "code",
      "source": [
        "# Retrieve the names of the top 5 most similar docs\n",
        "df_simdocs = simdocs.to_frame()\n",
        "df_simdocs['docid'] = df_simdocs.index\n",
        "df_simdocs.reset_index(drop = True, inplace = True)\n",
        "df_simdocs.head(5).merge(df_docnames, on='docid')"
      ],
      "metadata": {
        "colab": {
          "base_uri": "https://localhost:8080/",
          "height": 206
        },
        "id": "LfOqynV-nr5U",
        "outputId": "694b907c-9399-44dc-d3ae-237f93993871"
      },
      "execution_count": 20,
      "outputs": [
        {
          "output_type": "execute_result",
          "data": {
            "text/plain": [
              "   scoremult  docid                                            docname\n",
              "0   0.351171      7  txts/Arbuckle-Mauro-Siemens_Intro-Sydney-Whist...\n",
              "1   0.270747      6   txts/Arbuckle-Crompton-Mauro_SRC-intro_Dec14.txt\n",
              "2   0.184882      5  txts/Arbuckle-Christie_Intersections-Between_S...\n",
              "3   0.183604     12  txts/Arbuckle-et-al-2020-Introduction-Open-Sch...\n",
              "4   0.150295     99  txts/Siemens-2016-Faster-Alone-Further-Togethe..."
            ],
            "text/html": [
              "\n",
              "  <div id=\"df-c8d4c2db-b096-4e5d-9c1e-1a1eff6d584a\">\n",
              "    <div class=\"colab-df-container\">\n",
              "      <div>\n",
              "<style scoped>\n",
              "    .dataframe tbody tr th:only-of-type {\n",
              "        vertical-align: middle;\n",
              "    }\n",
              "\n",
              "    .dataframe tbody tr th {\n",
              "        vertical-align: top;\n",
              "    }\n",
              "\n",
              "    .dataframe thead th {\n",
              "        text-align: right;\n",
              "    }\n",
              "</style>\n",
              "<table border=\"1\" class=\"dataframe\">\n",
              "  <thead>\n",
              "    <tr style=\"text-align: right;\">\n",
              "      <th></th>\n",
              "      <th>scoremult</th>\n",
              "      <th>docid</th>\n",
              "      <th>docname</th>\n",
              "    </tr>\n",
              "  </thead>\n",
              "  <tbody>\n",
              "    <tr>\n",
              "      <th>0</th>\n",
              "      <td>0.351171</td>\n",
              "      <td>7</td>\n",
              "      <td>txts/Arbuckle-Mauro-Siemens_Intro-Sydney-Whist...</td>\n",
              "    </tr>\n",
              "    <tr>\n",
              "      <th>1</th>\n",
              "      <td>0.270747</td>\n",
              "      <td>6</td>\n",
              "      <td>txts/Arbuckle-Crompton-Mauro_SRC-intro_Dec14.txt</td>\n",
              "    </tr>\n",
              "    <tr>\n",
              "      <th>2</th>\n",
              "      <td>0.184882</td>\n",
              "      <td>5</td>\n",
              "      <td>txts/Arbuckle-Christie_Intersections-Between_S...</td>\n",
              "    </tr>\n",
              "    <tr>\n",
              "      <th>3</th>\n",
              "      <td>0.183604</td>\n",
              "      <td>12</td>\n",
              "      <td>txts/Arbuckle-et-al-2020-Introduction-Open-Sch...</td>\n",
              "    </tr>\n",
              "    <tr>\n",
              "      <th>4</th>\n",
              "      <td>0.150295</td>\n",
              "      <td>99</td>\n",
              "      <td>txts/Siemens-2016-Faster-Alone-Further-Togethe...</td>\n",
              "    </tr>\n",
              "  </tbody>\n",
              "</table>\n",
              "</div>\n",
              "      <button class=\"colab-df-convert\" onclick=\"convertToInteractive('df-c8d4c2db-b096-4e5d-9c1e-1a1eff6d584a')\"\n",
              "              title=\"Convert this dataframe to an interactive table.\"\n",
              "              style=\"display:none;\">\n",
              "        \n",
              "  <svg xmlns=\"http://www.w3.org/2000/svg\" height=\"24px\"viewBox=\"0 0 24 24\"\n",
              "       width=\"24px\">\n",
              "    <path d=\"M0 0h24v24H0V0z\" fill=\"none\"/>\n",
              "    <path d=\"M18.56 5.44l.94 2.06.94-2.06 2.06-.94-2.06-.94-.94-2.06-.94 2.06-2.06.94zm-11 1L8.5 8.5l.94-2.06 2.06-.94-2.06-.94L8.5 2.5l-.94 2.06-2.06.94zm10 10l.94 2.06.94-2.06 2.06-.94-2.06-.94-.94-2.06-.94 2.06-2.06.94z\"/><path d=\"M17.41 7.96l-1.37-1.37c-.4-.4-.92-.59-1.43-.59-.52 0-1.04.2-1.43.59L10.3 9.45l-7.72 7.72c-.78.78-.78 2.05 0 2.83L4 21.41c.39.39.9.59 1.41.59.51 0 1.02-.2 1.41-.59l7.78-7.78 2.81-2.81c.8-.78.8-2.07 0-2.86zM5.41 20L4 18.59l7.72-7.72 1.47 1.35L5.41 20z\"/>\n",
              "  </svg>\n",
              "      </button>\n",
              "      \n",
              "  <style>\n",
              "    .colab-df-container {\n",
              "      display:flex;\n",
              "      flex-wrap:wrap;\n",
              "      gap: 12px;\n",
              "    }\n",
              "\n",
              "    .colab-df-convert {\n",
              "      background-color: #E8F0FE;\n",
              "      border: none;\n",
              "      border-radius: 50%;\n",
              "      cursor: pointer;\n",
              "      display: none;\n",
              "      fill: #1967D2;\n",
              "      height: 32px;\n",
              "      padding: 0 0 0 0;\n",
              "      width: 32px;\n",
              "    }\n",
              "\n",
              "    .colab-df-convert:hover {\n",
              "      background-color: #E2EBFA;\n",
              "      box-shadow: 0px 1px 2px rgba(60, 64, 67, 0.3), 0px 1px 3px 1px rgba(60, 64, 67, 0.15);\n",
              "      fill: #174EA6;\n",
              "    }\n",
              "\n",
              "    [theme=dark] .colab-df-convert {\n",
              "      background-color: #3B4455;\n",
              "      fill: #D2E3FC;\n",
              "    }\n",
              "\n",
              "    [theme=dark] .colab-df-convert:hover {\n",
              "      background-color: #434B5C;\n",
              "      box-shadow: 0px 1px 3px 1px rgba(0, 0, 0, 0.15);\n",
              "      filter: drop-shadow(0px 1px 2px rgba(0, 0, 0, 0.3));\n",
              "      fill: #FFFFFF;\n",
              "    }\n",
              "  </style>\n",
              "\n",
              "      <script>\n",
              "        const buttonEl =\n",
              "          document.querySelector('#df-c8d4c2db-b096-4e5d-9c1e-1a1eff6d584a button.colab-df-convert');\n",
              "        buttonEl.style.display =\n",
              "          google.colab.kernel.accessAllowed ? 'block' : 'none';\n",
              "\n",
              "        async function convertToInteractive(key) {\n",
              "          const element = document.querySelector('#df-c8d4c2db-b096-4e5d-9c1e-1a1eff6d584a');\n",
              "          const dataTable =\n",
              "            await google.colab.kernel.invokeFunction('convertToInteractive',\n",
              "                                                     [key], {});\n",
              "          if (!dataTable) return;\n",
              "\n",
              "          const docLinkHtml = 'Like what you see? Visit the ' +\n",
              "            '<a target=\"_blank\" href=https://colab.research.google.com/notebooks/data_table.ipynb>data table notebook</a>'\n",
              "            + ' to learn more about interactive tables.';\n",
              "          element.innerHTML = '';\n",
              "          dataTable['output_type'] = 'display_data';\n",
              "          await google.colab.output.renderOutput(dataTable, element);\n",
              "          const docLink = document.createElement('div');\n",
              "          docLink.innerHTML = docLinkHtml;\n",
              "          element.appendChild(docLink);\n",
              "        }\n",
              "      </script>\n",
              "    </div>\n",
              "  </div>\n",
              "  "
            ]
          },
          "metadata": {},
          "execution_count": 20
        }
      ]
    }
  ]
}