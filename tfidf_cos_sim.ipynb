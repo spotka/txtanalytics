{
  "nbformat": 4,
  "nbformat_minor": 0,
  "metadata": {
    "colab": {
      "provenance": [],
      "collapsed_sections": [],
      "include_colab_link": true
    },
    "kernelspec": {
      "name": "python3",
      "display_name": "Python 3"
    },
    "language_info": {
      "name": "python"
    }
  },
  "cells": [
    {
      "cell_type": "markdown",
      "metadata": {
        "id": "view-in-github",
        "colab_type": "text"
      },
      "source": [
        "<a href=\"https://colab.research.google.com/github/thomouvic/txtanalytics/blob/main/tfidf_cos_sim.ipynb\" target=\"_parent\"><img src=\"https://colab.research.google.com/assets/colab-badge.svg\" alt=\"Open In Colab\"/></a>"
      ]
    },
    {
      "cell_type": "code",
      "source": [
        "!wget https://raw.githubusercontent.com/thomouvic/txtanalytics/main/docnames.csv\n",
        "!wget https://github.com/thomouvic/txtanalytics/raw/main/docvecs.csv"
      ],
      "metadata": {
        "id": "3H3HYC4yFdqK",
        "colab": {
          "base_uri": "https://localhost:8080/"
        },
        "outputId": "c48ad8cb-cfca-438a-cdd2-ee827b509a04"
      },
      "execution_count": 2,
      "outputs": [
        {
          "output_type": "stream",
          "name": "stdout",
          "text": [
            "--2022-11-14 00:28:11--  https://raw.githubusercontent.com/thomouvic/txtanalytics/main/docnames.csv\n",
            "Resolving raw.githubusercontent.com (raw.githubusercontent.com)... 185.199.108.133, 185.199.109.133, 185.199.110.133, ...\n",
            "Connecting to raw.githubusercontent.com (raw.githubusercontent.com)|185.199.108.133|:443... connected.\n",
            "HTTP request sent, awaiting response... 200 OK\n",
            "Length: 10660 (10K) [text/plain]\n",
            "Saving to: ‘docnames.csv’\n",
            "\n",
            "docnames.csv        100%[===================>]  10.41K  --.-KB/s    in 0s      \n",
            "\n",
            "2022-11-14 00:28:11 (42.2 MB/s) - ‘docnames.csv’ saved [10660/10660]\n",
            "\n",
            "--2022-11-14 00:28:11--  https://github.com/thomouvic/txtanalytics/raw/main/docvecs.csv\n",
            "Resolving github.com (github.com)... 20.27.177.113\n",
            "Connecting to github.com (github.com)|20.27.177.113|:443... connected.\n",
            "HTTP request sent, awaiting response... 302 Found\n",
            "Location: https://raw.githubusercontent.com/thomouvic/txtanalytics/main/docvecs.csv [following]\n",
            "--2022-11-14 00:28:12--  https://raw.githubusercontent.com/thomouvic/txtanalytics/main/docvecs.csv\n",
            "Resolving raw.githubusercontent.com (raw.githubusercontent.com)... 185.199.108.133, 185.199.109.133, 185.199.110.133, ...\n",
            "Connecting to raw.githubusercontent.com (raw.githubusercontent.com)|185.199.108.133|:443... connected.\n",
            "HTTP request sent, awaiting response... 200 OK\n",
            "Length: 8682301 (8.3M) [text/plain]\n",
            "Saving to: ‘docvecs.csv’\n",
            "\n",
            "docvecs.csv         100%[===================>]   8.28M  --.-KB/s    in 0.1s    \n",
            "\n",
            "2022-11-14 00:28:13 (77.6 MB/s) - ‘docvecs.csv’ saved [8682301/8682301]\n",
            "\n"
          ]
        }
      ]
    },
    {
      "cell_type": "code",
      "source": [
        "import pandas as pd\n",
        "\n",
        "df_docnames = pd.read_csv('docnames.csv')\n",
        "# print(df_docnames)\n",
        "\n",
        "df3 = pd.read_csv('docvecs.csv')\n",
        "# print(df3)\n",
        "\n",
        "# top k number of words to use for similarity\n",
        "k = 100\n",
        "\n",
        "# only consider the top k for each doc\n",
        "df4 = df3.groupby(by='docid').head(k)\n",
        "# print(df4) "
      ],
      "metadata": {
        "id": "qSsSOrQeiZOK"
      },
      "execution_count": 4,
      "outputs": []
    },
    {
      "cell_type": "code",
      "source": [
        "# A: # Given a docname find similar documents using cosine similarity on tfidf vectors\n",
        "docname_given = 'txts/Arbuckle-Christie-Siemens_IntroductionSRC7.2_11-15-16.txt'"
      ],
      "metadata": {
        "id": "vPe_o6NZhaaG"
      },
      "execution_count": 1,
      "outputs": []
    },
    {
      "cell_type": "code",
      "source": [
        "# Find docid for this docname_given.\n",
        "docid = df_docnames[ df_docnames['docname']==docname_given ].iloc[0,1]\n",
        "# print(docid)\n",
        "\n",
        "# Find docvec for this docid.\n",
        "docvec = df4[ df4['docid'] == docid ]\n",
        "# print(docvec)\n",
        "\n",
        "# Find the docvecs of docs that contain one of the terms in this docvec. \n",
        "# Only the rows of df4 that contain one of these terms are relevant for cosine similarity. \n",
        "# Then, remove rows with docid same as the document we are given \n",
        "# because we don't want to show the doc itself being similar to itself. \n",
        "relevant_docvecs = df4.merge(docvec[['termid', 'score']], on='termid') # this is an inner join \n",
        "relevant_docvecs = relevant_docvecs[ relevant_docvecs['docid'] != docid ]\n",
        "relevant_docvecs = relevant_docvecs.sort_values(['docid'])\n",
        "relevant_docvecs['scoremult'] = relevant_docvecs['score_x']*relevant_docvecs['score_y']\n",
        "# print(relevant_docvecs)\n",
        "print(relevant_docvecs.groupby(by='docid')['scoremult'].sum().sort_values(ascending=False))"
      ],
      "metadata": {
        "id": "pEtIap0sdBir",
        "colab": {
          "base_uri": "https://localhost:8080/"
        },
        "outputId": "fe45c4f5-4a07-4f6c-eb0a-9914064e4d0e"
      },
      "execution_count": 8,
      "outputs": [
        {
          "output_type": "stream",
          "name": "stdout",
          "text": [
            "docid\n",
            "7      0.351171\n",
            "6      0.270747\n",
            "5      0.184882\n",
            "12     0.183604\n",
            "99     0.150295\n",
            "         ...   \n",
            "73     0.001926\n",
            "117    0.001669\n",
            "63     0.001176\n",
            "62     0.000933\n",
            "0      0.000831\n",
            "Name: scoremult, Length: 103, dtype: float64\n"
          ]
        }
      ]
    }
  ]
}