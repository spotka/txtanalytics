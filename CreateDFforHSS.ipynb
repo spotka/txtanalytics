{
  "nbformat": 4,
  "nbformat_minor": 0,
  "metadata": {
    "colab": {
      "provenance": [],
      "authorship_tag": "ABX9TyPK26BkGqwy+eQSqk/5sXO4",
      "include_colab_link": true
    },
    "kernelspec": {
      "name": "python3",
      "display_name": "Python 3"
    },
    "language_info": {
      "name": "python"
    }
  },
  "cells": [
    {
      "cell_type": "markdown",
      "metadata": {
        "id": "view-in-github",
        "colab_type": "text"
      },
      "source": [
        "<a href=\"https://colab.research.google.com/github/thomouvic/txtanalytics/blob/main/CreateDFforHSS.ipynb\" target=\"_parent\"><img src=\"https://colab.research.google.com/assets/colab-badge.svg\" alt=\"Open In Colab\"/></a>"
      ]
    },
    {
      "cell_type": "code",
      "execution_count": 1,
      "metadata": {
        "colab": {
          "base_uri": "https://localhost:8080/"
        },
        "id": "DCdLE8KA1g8A",
        "outputId": "7a217406-4f33-4ae3-ebc2-c47aa01636ed"
      },
      "outputs": [
        {
          "output_type": "stream",
          "name": "stdout",
          "text": [
            "--2022-11-26 16:48:19--  https://github.com/thomouvic/txtanalytics/raw/main/txts.zip\n",
            "Resolving github.com (github.com)... 140.82.112.3\n",
            "Connecting to github.com (github.com)|140.82.112.3|:443... connected.\n",
            "HTTP request sent, awaiting response... 302 Found\n",
            "Location: https://raw.githubusercontent.com/thomouvic/txtanalytics/main/txts.zip [following]\n",
            "--2022-11-26 16:48:19--  https://raw.githubusercontent.com/thomouvic/txtanalytics/main/txts.zip\n",
            "Resolving raw.githubusercontent.com (raw.githubusercontent.com)... 185.199.108.133, 185.199.109.133, 185.199.110.133, ...\n",
            "Connecting to raw.githubusercontent.com (raw.githubusercontent.com)|185.199.108.133|:443... connected.\n",
            "HTTP request sent, awaiting response... 200 OK\n",
            "Length: 3274958 (3.1M) [application/zip]\n",
            "Saving to: ‘txts.zip’\n",
            "\n",
            "txts.zip            100%[===================>]   3.12M  --.-KB/s    in 0.07s   \n",
            "\n",
            "2022-11-26 16:48:19 (46.5 MB/s) - ‘txts.zip’ saved [3274958/3274958]\n",
            "\n"
          ]
        }
      ],
      "source": [
        "!wget https://github.com/thomouvic/txtanalytics/raw/main/txts.zip\n",
        "!unzip -q txts.zip"
      ]
    },
    {
      "cell_type": "code",
      "source": [
        "# Retrieve the filenames.\n",
        "\n",
        "from pathlib import Path\n",
        "\n",
        "all_filenames =[]\n",
        "for file in Path(\"./txts/\").rglob(\"*.txt\"):\n",
        "  # print(file)\n",
        "  all_filenames.append(file.parent / file.name)\n",
        "\n",
        "all_filenames.sort()\n",
        "\n",
        "print( len(all_filenames) )\n",
        "print(all_filenames)\n"
      ],
      "metadata": {
        "colab": {
          "base_uri": "https://localhost:8080/"
        },
        "id": "g1CQrsfA13g1",
        "outputId": "50d892f0-d970-4862-93b4-5567b218c7b6"
      },
      "execution_count": 12,
      "outputs": [
        {
          "output_type": "stream",
          "name": "stdout",
          "text": [
            "130\n",
            "[PosixPath('txts/03_Jensen_Its-not-Personal_WJS_Vol13_No-2_Fall-2017_pp-140-166.txt'), PosixPath('txts/ACH-ALL-2005-Conference-Proceedings.txt'), PosixPath('txts/Abstract.txt'), PosixPath('txts/Arbuckle-2020-How-Can-We-Broaden-and-Diversify-Humanities-Knowledge-Translation.txt'), PosixPath('txts/Arbuckle-Christie-Siemens_IntroductionSRC7.2_11-15-16.txt'), PosixPath('txts/Arbuckle-Christie_Intersections-Between_SRC_10-26-15.txt'), PosixPath('txts/Arbuckle-Crompton-Mauro_SRC-intro_Dec14.txt'), PosixPath('txts/Arbuckle-Mauro-Siemens_Intro-Sydney-Whistler_SRC_Oct2015.txt'), PosixPath('txts/Arbuckle-and-Maxwell-2019-Modelling-Open-Social-Scholarship-Within-the-INKE-Community.txt'), PosixPath('txts/Arbuckle-et-al-2014-Social-Knowledge-Creation.txt'), PosixPath('txts/Arbuckle-et-al-2019-Introduction-Beyond-Open-Implementing-Social-Scholarship.txt'), PosixPath('txts/Arbuckle-et-al-2019-Introduction-Open-Scholarship-in-Action.txt'), PosixPath('txts/Arbuckle-et-al-2020-Introduction-Open-Scholarship-in-the-21st-Century.txt'), PosixPath('txts/Arbuckle_DigitalStudies_WL-WF_2014.txt'), PosixPath('txts/Arbuckle_KULA_OpenPlus_02-27-19.txt'), PosixPath('txts/Belojevic-et-al-2014-A-Select-Annotated-Bibliography-Concerning-Game-Design-Models-for-Digital-Social-Knowledge-Creation.txt'), PosixPath('txts/Bowker - published version - IJIDI 5-3 - Sept 2021.txt'), PosixPath('txts/Canadian-Poetry_74_Jensen-Graham_Continuation-and-the-Late-Meta-Poetry-of-Louis-Dudek.txt'), PosixPath('txts/Chapter in Erne 2020.txt'), PosixPath('txts/Crompton-et-al-2013-Understanding-the-Social-Edition-Through-Iterative-Implementation.txt'), PosixPath('txts/Crompton-et-al-2015-Playing-Well-with-Others-The-Social-Edition-and-Computational-Collaboration.txt'), PosixPath('txts/Crompton-et-al-2020-Familiar-Wikidata.txt'), PosixPath('txts/CromptonSiemensArbuckle_EnlistingVertues_DHQ_2015.txt'), PosixPath('txts/Cromtpon-et-al-2014-Building-a-Social-Edition-of-the-Devonshire-Manuscript.txt'), PosixPath('txts/Demon-Possession and Suicide in The Sound and the Fury.txt'), PosixPath('txts/Dyck-et-al-2000-The-Janus-Face-of-Early-Modern-Literary-Studies.txt'), PosixPath('txts/ENGL300_AnnotatedBibliographyAssignment.txt'), PosixPath('txts/El-Khatib-et-al-2018-Social-Knowledge-Creation-in-Action.txt'), PosixPath('txts/El-Khatib-et-al-2019-Foundations-for-On-Campus-Open-Social-Scholarship-Activities.txt'), PosixPath('txts/El-Khatib-et-al-2019-Open-Social-Scholarship-Annotated-Bibliography.txt'), PosixPath('txts/El-Khatib-et-al-2020-An Open Lab.txt'), PosixPath('txts/El-Khatib-et-al-DSH-OSS-in-Action-ACCEPTED.txt'), PosixPath('txts/Galey-et-al-2011-Beyond Remediation-The-Role-of-Textual-Studies-in-Implementing-New-Knowledge-Environments.txt'), PosixPath('txts/Garnett-et-al-2012-Selected-Information-Management-Resources-for-Implementing-New Knowledge-Environments.txt'), PosixPath('txts/Guay-Belanger_Assembling-Auras.txt'), PosixPath('txts/Habiter les espaces autres.txt'), PosixPath('txts/Hiebert-et-al-2015-Implementing-a-Social-Knowledge-Creation-Environment.txt'), PosixPath('txts/Koolen-et-al-2012-Electronic-Environments-for-Reading.txt'), PosixPath('txts/MacGregor-et-al-2012-Revolutionary-Reading-Evolutionary-Toolmaking.txt'), PosixPath('txts/Meneses-2019-Review-of-Netlytic.txt'), PosixPath('txts/Meneses-2020-Integrating-the-Social-Media-Engine-with-Large-scale-Open-Access-Repositories.txt'), PosixPath('txts/Meneses-et-al-2018-Part-Deux0Exploring-the-Signs-of-Abandonment-of-Online-Digital-Humanities-Projects-DH2018.txt'), PosixPath('txts/Meneses-et-al-2019-Aligning-Social-Media-Indicators.txt'), PosixPath('txts/Meneses-et-al-2019-Social-Media-Engine.txt'), PosixPath('txts/Milligan-et-al-2019-The-Initial-Impact-of-the-Open-Scholarship-Policy-Observatory.txt'), PosixPath('txts/OKP Handout - Jan 2021.txt'), PosixPath('txts/OSSyllabus.txt'), PosixPath('txts/OSSyllabus_sampleAssignment.txt'), PosixPath('txts/OSSyllabus_sampleRubric.txt'), PosixPath('txts/Open-Scholarship-in-Australia-Arthur-et-al-2021.txt'), PosixPath('txts/Patterson-et-al-2010-Enacting-Change-A-Study-of-the-Implementation-of-e-Readers-and-an-Online-Library-in-two-Canadian-High-School-Classrooms.txt'), PosixPath('txts/Pop Introduction.txt'), PosixPath('txts/Powell-and-Siemens-2014-Building-Alternative-Scholarly-Publishing-Capacity-The-Renaissance-Knowledge-Network-ReKN-as-Digital-Production-Hub.txt'), PosixPath('txts/Powell-et-al-2015-Transformation-Through-Integration-The Renaissance-Knowledge-Network-ReKN-and-a-Newxt-Wave-of-Scholarly-Publication.txt'), PosixPath('txts/Projet de mmoire sur Thmistios et lEmpereur Julien par Yann Vadnais.txt'), PosixPath('txts/PrototypeEoCResearchPortal_22-03-2022.txt'), PosixPath('txts/README.txt'), PosixPath('txts/Robinson-and-Saklofske-2017-Connecting-the-dots-Integrating-modular-networks-and-narrativity-in-digital-scholarship.txt'), PosixPath('txts/Saklofske-2003-A-fly-in-the-ointment-William-Blake-Thomas-Gray.txt'), PosixPath('txts/Saklofske-2003-Enough-or-too-much-thesis.txt'), PosixPath('txts/Saklofske-2004-The-Motif-of-the-Collector and-History-in-Ondaatjes-Work.txt'), PosixPath('txts/Saklofske-2007-Conscripting-Imagination.txt'), PosixPath('txts/Saklofske-2008-Tales-Worked-in-Blood-and-Bone.txt'), PosixPath('txts/Saklofske-2010-NewRadial-Rivisualizing-the-Blake-Archive.txt'), PosixPath('txts/Saklofske-2011-Remediating-William-Blake.txt'), PosixPath('txts/Saklofske-2012-Fluid-Layering.txt'), PosixPath('txts/Saklofske-2014-Humanities-Scholarship-in-a-Vast-Universe.txt'), PosixPath('txts/Saklofske-2015-NewRadialChallenging-scales-and-standards-of-humanities-scholarship-through-new-knowledge-environment-prototypes.txt'), PosixPath('txts/Saklofske-2020-Gaming-the-Publishing-Industry.txt'), PosixPath('txts/Saklofske-and-Bruce-2013-Beyond-Browsing-and-Reading.txt'), PosixPath('txts/Saklofske-et-al-2016-View-of-Gaming-the Edition-Modelling-Scholarly-Editions-through-Videogame-Frameworks.txt'), PosixPath('txts/Schreibman-et-al-2004-Bridging the Gap-Between-a-Simple-Set-of-Structured-Documents-and-a-Functional-Digital-Library.txt'), PosixPath('txts/Seatter-2019-Towards-Open-Annotation-Examples-and-Experiments.txt'), PosixPath('txts/Seatter-et-al-2020-Introduction-to-Digital-Humanities-Summer-Institute-Special-Issue.txt'), PosixPath('txts/Siemens-1996-As-Strayght-as-Ony-Pole.txt'), PosixPath('txts/Siemens-1996-Lemmatization-and-parsing-with-TACT-preprocessing-programs.txt'), PosixPath('txts/Siemens-1996-The-Acorn-of-the-Oak.txt'), PosixPath('txts/Siemens-1997-A-New-Humanism-Toward-a-Reconsideration-of-the-Ideals-and-Pragmatics-Shaping-Electronic-Scholarly-Publication-in-the-Arts-Today.txt'), PosixPath('txts/Siemens-1998-Disparate-Structures-Electronic-and-Otherwise-Conceptions-of-Textual-Organisation-in-the-Electronic-Medium.txt'), PosixPath('txts/Siemens-2001-I haue-often-such-a-sickly-inclination-Biography-and-the-Critical-Interpretation-of-Donnes-Suicide-Tract-Biathanatos.txt'), PosixPath('txts/Siemens-2001-Un-Editing-and-Non-Editions-The-Death-of-Distance-The-Notion-of-Navigation-and-New-Acts-of-Editing-in-the-Electronic-Medium.txt'), PosixPath('txts/Siemens-2005-Text-Analysis-and-the-Dynamic-Edition-A-Working-Paper-Briefly-Articulating-Some-Concerns-with-an-Algorithmic-Approach-to-the-Electronic-Scholarly-Edition.txt'), PosixPath('txts/Siemens-2009-Playing-Shame-One-Technique-for-Introducing-Text-Analysis-to-the-Literary-Studies-Classroom.txt'), PosixPath('txts/Siemens-2009-Revisiting-the-Text-of-the-Henry-VIII-Manuscript.txt'), PosixPath('txts/Siemens-2010-Challenges-Responses-and-Available-Resources-Success-in-Rural-Small-Businesses.txt'), PosixPath('txts/Siemens-2010-More-Minds-are-brought-to-bear-on-a-problem.txt'), PosixPath('txts/Siemens-2010-Poetic-Statesmanship-and-the-Politics-of-Patronage-in-the-Early-Tudor-Court.txt'), PosixPath('txts/Siemens-2010-The-Balance-between-On-line-and-In-person-Interaction-Methods-for-the-Development-of-Digital-Humanities-Collaboration.txt'), PosixPath('txts/Siemens-2010-The-Potential-of-Grant-Applications-as-Team-Building-Exercises-A-Case-Study.txt'), PosixPath('txts/Siemens-2012-Embedding-Small-Business-and-Entrepreneurship-Training-within-the-Rural-Context.txt'), PosixPath('txts/Siemens-2012-Firing on-All-Cylinders-Progress-and-Transition-in-INKEs-Year-Two.txt'), PosixPath('txts/Siemens-2012-From-Writing-the-Grant-to-Working-the-Grant.txt'), PosixPath('txts/Siemens-2012-Understanding-Long-Term-Collaboration-Refelctions-on-Year-1-and-Before.txt'), PosixPath('txts/Siemens-2013-Developing-Academic-Capacity-in-Digital-Humanities.txt'), PosixPath('txts/Siemens-2014-Building-and-Sustaining-Long-term-Collaboration.txt'), PosixPath('txts/Siemens-2014-Mapping-disciplinary-differences-and-equity-of-academic-control-to-create-a-space-for-collaboration.txt'), PosixPath('txts/Siemens-2014-We-moved-here-for-the-lifestyle.txt'), PosixPath('txts/Siemens-2015-INKE-cubating-Research-Networks- Projects-and-Partnerships.txt'), PosixPath('txts/Siemens-2016-Communities-of-practice-the-methodological-commons-and-digital-self-determination-in-the-Humanities.txt'), PosixPath('txts/Siemens-2016-Faster-Alone-Further-Together.txt'), PosixPath('txts/Siemens-2019-Building-and-Supporting-Humanities-Based-UniversityIndustry Partnerships.txt'), PosixPath('txts/Siemens-2020-A-Hole-in-the-Wall.txt'), PosixPath('txts/Siemens-and-INKE-Research-Group-2020-Where-Lie-the-Similarities-and-Differences.txt'), PosixPath('txts/Siemens-and-Shawver-2009-New-Paths-for-Computing-Humanists.txt'), PosixPath('txts/Siemens-and-The-INKE-Research-Group-2019-Developing-an-Open-Social-Scholarship-Collaboration-Lessons-from-INKE.txt'), PosixPath('txts/Siemens-and-The-INKE-Research-Group-2019-Joining-Voices-UniversityIndustry-Partnerships-in-the-Humanities.txt'), PosixPath('txts/Siemens-and-Winder-1998-Technologising-the-Humanities-Humanitising-the-Technologies.txt'), PosixPath('txts/Siemens-and-Winder-200-Scholarly-Discourse-and-Computing-Technology-II.txt'), PosixPath('txts/Siemens-et-al-2009-Codex-Ultor-Toward-a-Conceptual-and-Theoretical-Foundation-for-New-Research-on-Books-and-Knowledge-Environments.txt'), PosixPath('txts/Siemens-et-al-2009-Codex-Ultor-Vers-des-fondations-conceptuelles-et-theoriques-pour-de-nouvelles-recherches-sur-les-livres-et-les-environments-documentaries.txt'), PosixPath('txts/Siemens-et-al-2009-Implementing-New-Knowledge-Environments-Laying-Research-Foundations-for-Understanding-Books-and-Reading-in-the-Digital.txt'), PosixPath('txts/Siemens-et-al-2010-A-Tale-of-Two-Cities.txt'), PosixPath('txts/Siemens-et-al-2011-HCI-Book-on-E-Book-Research-2006-2008 .txt'), PosixPath('txts/Siemens-et-al-2011-Prototyping-the-Renaissance-English-Knowledgebase-REKn-and-Professional-Reading-Environment-PReE-Past-Present-and-Future-Concerns-A-Digital-Humanities-Project-Narrative.txt'), PosixPath('txts/Siemens-et-al-2011-TEI-encoded-Dylan-and-Understanding-the-Scope-of-an-Evolving-Community-of-Practice-Warning.txt'), PosixPath('txts/Siemens-et-al-2012-INKE-Administrative-Structure-Omnibus-Document.txt'), PosixPath('txts/Siemens-et-al-2012-Implementing-New-Knowledge-Environments-Year-One-Research-Foundations.txt'), PosixPath('txts/Siemens-et-al-2012-Video-gaming-Paradse-Lost-and-TCPIP-An-Oral-History-Conversation-between-Ray-Siemens-and-Anne-Welsh.txt'), PosixPath('txts/Simenes-2014-Research-Collaboration-as-Layers-of-Engagement-INKE-in-Year-Four.txt'), PosixPath('txts/SocialLifeofScholarlyDocsJune5-22.odt.txt'), PosixPath('txts/Stanwood-et-a-2011-lLancelot-Andrewess-Orphan-Lectures-The-Exeter-Manuscript.txt'), PosixPath('txts/Steigerwald et a. 2022 - BioScience Final offprint - biac062.txt'), PosixPath('txts/Studies-2-70.txt'), PosixPath('txts/Studies-20-80-81.txt'), PosixPath('txts/Toward-Modeling-the-Social-EditionSiemens-et-al.txt'), PosixPath('txts/Winter-et-al-2020-Foundations-for-the-Canadian-Humanities-and-Social-Sciences-Commons.txt'), PosixPath('txts/eludamos7.1_jensen.txt'), PosixPath('txts/hubREADME.txt'), PosixPath('txts/newDraftVersion.txt'), PosixPath('txts/project_muse_787134.txt')]\n"
          ]
        }
      ]
    },
    {
      "cell_type": "code",
      "source": [
        "# Create a pandas dataframe with docname and text as columns.  \n",
        "\n",
        "import pandas as pd\n",
        "\n",
        "all_docs = [open(f).read() for f in all_filenames]\n",
        "\n",
        "# A: store docnames to a pandas frame, then to a csv file\n",
        "df = pd.DataFrame({'docname':all_filenames, 'text': all_docs})\n",
        "df['docid'] = df.index\n",
        "df.to_csv('docs.csv', index=False)\n",
        "\n",
        "# print(df.iloc[0,0], df.iloc[0,1])"
      ],
      "metadata": {
        "id": "96AkQZW33Rwk"
      },
      "execution_count": null,
      "outputs": []
    },
    {
      "cell_type": "code",
      "source": [
        "df['length'] = df['text'].str.len()\n",
        "\n",
        "df[ ['length'] ].describe().T"
      ],
      "metadata": {
        "colab": {
          "base_uri": "https://localhost:8080/",
          "height": 81
        },
        "id": "DV3T3mqF-_KT",
        "outputId": "4a9a65f4-49b6-4d81-828e-aa8ec63bceec"
      },
      "execution_count": 18,
      "outputs": [
        {
          "output_type": "execute_result",
          "data": {
            "text/plain": [
              "        count          mean            std  min      25%      50%       75%  \\\n",
              "length  130.0  70928.215385  146387.165565  1.0  22894.0  36793.0  61917.25   \n",
              "\n",
              "              max  \n",
              "length  1219398.0  "
            ],
            "text/html": [
              "\n",
              "  <div id=\"df-4289182f-af4c-4051-bd01-31c56e5211dc\">\n",
              "    <div class=\"colab-df-container\">\n",
              "      <div>\n",
              "<style scoped>\n",
              "    .dataframe tbody tr th:only-of-type {\n",
              "        vertical-align: middle;\n",
              "    }\n",
              "\n",
              "    .dataframe tbody tr th {\n",
              "        vertical-align: top;\n",
              "    }\n",
              "\n",
              "    .dataframe thead th {\n",
              "        text-align: right;\n",
              "    }\n",
              "</style>\n",
              "<table border=\"1\" class=\"dataframe\">\n",
              "  <thead>\n",
              "    <tr style=\"text-align: right;\">\n",
              "      <th></th>\n",
              "      <th>count</th>\n",
              "      <th>mean</th>\n",
              "      <th>std</th>\n",
              "      <th>min</th>\n",
              "      <th>25%</th>\n",
              "      <th>50%</th>\n",
              "      <th>75%</th>\n",
              "      <th>max</th>\n",
              "    </tr>\n",
              "  </thead>\n",
              "  <tbody>\n",
              "    <tr>\n",
              "      <th>length</th>\n",
              "      <td>130.0</td>\n",
              "      <td>70928.215385</td>\n",
              "      <td>146387.165565</td>\n",
              "      <td>1.0</td>\n",
              "      <td>22894.0</td>\n",
              "      <td>36793.0</td>\n",
              "      <td>61917.25</td>\n",
              "      <td>1219398.0</td>\n",
              "    </tr>\n",
              "  </tbody>\n",
              "</table>\n",
              "</div>\n",
              "      <button class=\"colab-df-convert\" onclick=\"convertToInteractive('df-4289182f-af4c-4051-bd01-31c56e5211dc')\"\n",
              "              title=\"Convert this dataframe to an interactive table.\"\n",
              "              style=\"display:none;\">\n",
              "        \n",
              "  <svg xmlns=\"http://www.w3.org/2000/svg\" height=\"24px\"viewBox=\"0 0 24 24\"\n",
              "       width=\"24px\">\n",
              "    <path d=\"M0 0h24v24H0V0z\" fill=\"none\"/>\n",
              "    <path d=\"M18.56 5.44l.94 2.06.94-2.06 2.06-.94-2.06-.94-.94-2.06-.94 2.06-2.06.94zm-11 1L8.5 8.5l.94-2.06 2.06-.94-2.06-.94L8.5 2.5l-.94 2.06-2.06.94zm10 10l.94 2.06.94-2.06 2.06-.94-2.06-.94-.94-2.06-.94 2.06-2.06.94z\"/><path d=\"M17.41 7.96l-1.37-1.37c-.4-.4-.92-.59-1.43-.59-.52 0-1.04.2-1.43.59L10.3 9.45l-7.72 7.72c-.78.78-.78 2.05 0 2.83L4 21.41c.39.39.9.59 1.41.59.51 0 1.02-.2 1.41-.59l7.78-7.78 2.81-2.81c.8-.78.8-2.07 0-2.86zM5.41 20L4 18.59l7.72-7.72 1.47 1.35L5.41 20z\"/>\n",
              "  </svg>\n",
              "      </button>\n",
              "      \n",
              "  <style>\n",
              "    .colab-df-container {\n",
              "      display:flex;\n",
              "      flex-wrap:wrap;\n",
              "      gap: 12px;\n",
              "    }\n",
              "\n",
              "    .colab-df-convert {\n",
              "      background-color: #E8F0FE;\n",
              "      border: none;\n",
              "      border-radius: 50%;\n",
              "      cursor: pointer;\n",
              "      display: none;\n",
              "      fill: #1967D2;\n",
              "      height: 32px;\n",
              "      padding: 0 0 0 0;\n",
              "      width: 32px;\n",
              "    }\n",
              "\n",
              "    .colab-df-convert:hover {\n",
              "      background-color: #E2EBFA;\n",
              "      box-shadow: 0px 1px 2px rgba(60, 64, 67, 0.3), 0px 1px 3px 1px rgba(60, 64, 67, 0.15);\n",
              "      fill: #174EA6;\n",
              "    }\n",
              "\n",
              "    [theme=dark] .colab-df-convert {\n",
              "      background-color: #3B4455;\n",
              "      fill: #D2E3FC;\n",
              "    }\n",
              "\n",
              "    [theme=dark] .colab-df-convert:hover {\n",
              "      background-color: #434B5C;\n",
              "      box-shadow: 0px 1px 3px 1px rgba(0, 0, 0, 0.15);\n",
              "      filter: drop-shadow(0px 1px 2px rgba(0, 0, 0, 0.3));\n",
              "      fill: #FFFFFF;\n",
              "    }\n",
              "  </style>\n",
              "\n",
              "      <script>\n",
              "        const buttonEl =\n",
              "          document.querySelector('#df-4289182f-af4c-4051-bd01-31c56e5211dc button.colab-df-convert');\n",
              "        buttonEl.style.display =\n",
              "          google.colab.kernel.accessAllowed ? 'block' : 'none';\n",
              "\n",
              "        async function convertToInteractive(key) {\n",
              "          const element = document.querySelector('#df-4289182f-af4c-4051-bd01-31c56e5211dc');\n",
              "          const dataTable =\n",
              "            await google.colab.kernel.invokeFunction('convertToInteractive',\n",
              "                                                     [key], {});\n",
              "          if (!dataTable) return;\n",
              "\n",
              "          const docLinkHtml = 'Like what you see? Visit the ' +\n",
              "            '<a target=\"_blank\" href=https://colab.research.google.com/notebooks/data_table.ipynb>data table notebook</a>'\n",
              "            + ' to learn more about interactive tables.';\n",
              "          element.innerHTML = '';\n",
              "          dataTable['output_type'] = 'display_data';\n",
              "          await google.colab.output.renderOutput(dataTable, element);\n",
              "          const docLink = document.createElement('div');\n",
              "          docLink.innerHTML = docLinkHtml;\n",
              "          element.appendChild(docLink);\n",
              "        }\n",
              "      </script>\n",
              "    </div>\n",
              "  </div>\n",
              "  "
            ]
          },
          "metadata": {},
          "execution_count": 18
        }
      ]
    },
    {
      "cell_type": "code",
      "source": [
        "# Not in book: seaborn plot with gaussian kernel density estimate\n",
        "import seaborn as sns\n",
        "import matplotlib.pyplot as plt\n",
        "\n",
        "plt.figure(figsize=(8, 2))\n",
        "sns.displot(df['length'], bins=30, kde=True);\n",
        "\n",
        "# The histogram shows the distribution of the document lengths in HSS Commons. \n",
        "# We see that many docs are are less than 0.1*10^6 characters long.  \n",
        "# The average English word is 4.7 characters long. \n",
        "# So, we have that many docs are are less than 0.1*10^6/4.7 = 21,276 words long. \n",
        "# Few docs are quite long. See the tail of the distribution. One of these docs\n",
        "# is conference proceedings, Abstract.txt   "
      ],
      "metadata": {
        "colab": {
          "base_uri": "https://localhost:8080/",
          "height": 387
        },
        "id": "5GoYHSiE_0oF",
        "outputId": "12795dde-4eab-46c4-ee92-eaf4976627e2"
      },
      "execution_count": 27,
      "outputs": [
        {
          "output_type": "display_data",
          "data": {
            "text/plain": [
              "<Figure size 576x144 with 0 Axes>"
            ]
          },
          "metadata": {}
        },
        {
          "output_type": "display_data",
          "data": {
            "text/plain": [
              "<Figure size 360x360 with 1 Axes>"
            ],
            "image/png": "[encoded data removed]"
          },
          "metadata": {
            "needs_background": "light"
          }
        }
      ]
    },
    {
      "cell_type": "markdown",
      "source": [
        "# Blueprint: Building a Simple Text Preprocessing Pipeline\n",
        "\n",
        "## Tokenization with Regular Expressions"
      ],
      "metadata": {
        "id": "qDF2jCmCD_4C"
      }
    },
    {
      "cell_type": "code",
      "source": [
        "import regex as re\n",
        "\n",
        "def tokenize(text):\n",
        "    return re.findall(r'[\\w-]*\\p{L}[\\w-]*', text)"
      ],
      "metadata": {
        "id": "je0NyvCoEDPQ"
      },
      "execution_count": 29,
      "outputs": []
    },
    {
      "cell_type": "code",
      "source": [
        "# This is just a small usage example.\n",
        "\n",
        "text = \"Let's defeat SARS-CoV-2 together in 2020!\"\n",
        "tokens = tokenize(text)\n",
        "print(\"|\".join(tokens))"
      ],
      "metadata": {
        "colab": {
          "base_uri": "https://localhost:8080/"
        },
        "id": "XVu76fryEHh5",
        "outputId": "854c0429-5516-4394-f7be-f938ab5df8e9"
      },
      "execution_count": 30,
      "outputs": [
        {
          "output_type": "stream",
          "name": "stdout",
          "text": [
            "Let|s|defeat|SARS-CoV-2|together|in\n"
          ]
        }
      ]
    },
    {
      "cell_type": "code",
      "source": [
        "import nltk\n",
        "# not in book: make sure stop words are available\n",
        "nltk.download('stopwords')\n",
        "\n",
        "stopwords = set(nltk.corpus.stopwords.words('english'))"
      ],
      "metadata": {
        "colab": {
          "base_uri": "https://localhost:8080/"
        },
        "id": "XNjuvQZsEMMo",
        "outputId": "99672e74-851f-403b-b1c6-bcd82bbe0201"
      },
      "execution_count": 32,
      "outputs": [
        {
          "output_type": "stream",
          "name": "stderr",
          "text": [
            "[nltk_data] Downloading package stopwords to /root/nltk_data...\n",
            "[nltk_data]   Package stopwords is already up-to-date!\n"
          ]
        }
      ]
    },
    {
      "cell_type": "code",
      "source": [
        "def remove_stop(tokens):\n",
        "    return [t for t in tokens if t.lower() not in stopwords]"
      ],
      "metadata": {
        "id": "ZGqEN81NEaWM"
      },
      "execution_count": 33,
      "outputs": []
    },
    {
      "cell_type": "markdown",
      "source": [
        "## Processing a Pipeline with one Line of Code"
      ],
      "metadata": {
        "id": "FHhzDA-OEkem"
      }
    },
    {
      "cell_type": "code",
      "source": [
        "pipeline = [str.lower, tokenize, remove_stop]\n",
        "\n",
        "def prepare(text, pipeline):\n",
        "    tokens = text\n",
        "    for transform in pipeline:\n",
        "        tokens = transform(tokens)\n",
        "    return tokens"
      ],
      "metadata": {
        "id": "oX64kFkVEc2M"
      },
      "execution_count": 34,
      "outputs": []
    },
    {
      "cell_type": "code",
      "source": [
        "df['tokens'] = df['text'].apply(prepare, pipeline=pipeline)"
      ],
      "metadata": {
        "id": "ou0xT31DEVSf"
      },
      "execution_count": 36,
      "outputs": []
    },
    {
      "cell_type": "code",
      "source": [
        "df['num_tokens'] = df['tokens'].map(len)"
      ],
      "metadata": {
        "id": "j67EtBOwE_1Z"
      },
      "execution_count": 37,
      "outputs": []
    },
    {
      "cell_type": "code",
      "source": [
        "# Histogram based on number of tokens.\n",
        "\n",
        "plt.figure(figsize=(8, 2))\n",
        "sns.displot(df['num_tokens'], bins=30, kde=True);"
      ],
      "metadata": {
        "colab": {
          "base_uri": "https://localhost:8080/",
          "height": 387
        },
        "id": "NEsTH_02FI9T",
        "outputId": "e7287585-257c-4925-cb6e-16ec715978ec"
      },
      "execution_count": 38,
      "outputs": [
        {
          "output_type": "display_data",
          "data": {
            "text/plain": [
              "<Figure size 576x144 with 0 Axes>"
            ]
          },
          "metadata": {}
        },
        {
          "output_type": "display_data",
          "data": {
            "text/plain": [
              "<Figure size 360x360 with 1 Axes>"
            ],
            "image/png": "[encoded data removed]"
          },
          "metadata": {
            "needs_background": "light"
          }
        }
      ]
    },
    {
      "cell_type": "markdown",
      "source": [
        "# Blueprints for Word Frequency Analysis\n",
        "\n",
        "## Blueprint: Counting Words with a Counter"
      ],
      "metadata": {
        "id": "TkSHJEXpDCyY"
      }
    },
    {
      "cell_type": "code",
      "source": [
        "# Just a small example \n",
        "\n",
        "from collections import Counter\n",
        "\n",
        "tokens = tokenize(\"She likes my cats and my cats like my sofa.\")\n",
        "\n",
        "counter = Counter(tokens)\n",
        "print(counter)"
      ],
      "metadata": {
        "colab": {
          "base_uri": "https://localhost:8080/"
        },
        "id": "q00uqcPGGje8",
        "outputId": "8e9fc79e-a8e2-4552-f358-d5d3cadd5f60"
      },
      "execution_count": 44,
      "outputs": [
        {
          "output_type": "stream",
          "name": "stdout",
          "text": [
            "Counter({'my': 3, 'cats': 2, 'She': 1, 'likes': 1, 'and': 1, 'like': 1, 'sofa': 1})\n"
          ]
        }
      ]
    },
    {
      "cell_type": "code",
      "source": [
        "more_tokens = tokenize(\"She likes dogs and cats.\")\n",
        "counter.update(more_tokens)\n",
        "print(counter)"
      ],
      "metadata": {
        "colab": {
          "base_uri": "https://localhost:8080/"
        },
        "id": "hpzmTv9KGvCo",
        "outputId": "65baeb32-326c-4f6a-a118-7c5dd19b0c23"
      },
      "execution_count": 45,
      "outputs": [
        {
          "output_type": "stream",
          "name": "stdout",
          "text": [
            "Counter({'my': 3, 'cats': 3, 'She': 2, 'likes': 2, 'and': 2, 'like': 1, 'sofa': 1, 'dogs': 1})\n"
          ]
        }
      ]
    },
    {
      "cell_type": "code",
      "source": [
        "# Counting tokens as before in HSS, but using the Counter class\n",
        "\n",
        "from collections import Counter\n",
        "\n",
        "counter = Counter()\n",
        "\n",
        "# Call counter.update for each row of the column tokens. \n",
        "# Counter will be updated each time. \n",
        "_ = df['tokens'].map(counter.update) "
      ],
      "metadata": {
        "id": "Io9kuzOKCmMl"
      },
      "execution_count": 46,
      "outputs": []
    },
    {
      "cell_type": "code",
      "source": [
        "df['tokens']"
      ],
      "metadata": {
        "colab": {
          "base_uri": "https://localhost:8080/"
        },
        "id": "kEi1Wb3dFq_B",
        "outputId": "45eb37ff-1ecb-41cf-c9be-0c4783865832"
      },
      "execution_count": 40,
      "outputs": [
        {
          "output_type": "execute_result",
          "data": {
            "text/plain": [
              "0      [personal, modernist, remediations, william, j...\n",
              "1      [association, computers, humanities, associati...\n",
              "2      [abstract, thesis, argues, rise, sincerity, do...\n",
              "3      [pop, broaden, diversify, humanities, knowledg...\n",
              "4      [introduction, new, knowledge, models, sustain...\n",
              "                             ...                        \n",
              "125    [pop, foundations, canadian, humanities, socia...\n",
              "126    [vol, http, www, eludamos, org, making, sense,...\n",
              "127    [apex, hipster, xml, geekdom, tei-encoded, dyl...\n",
              "128    [care-ful, reviewer, peer, review, people, mat...\n",
              "129    [ursula, k, le, guin, dispossessed, künstlerro...\n",
              "Name: tokens, Length: 130, dtype: object"
            ]
          },
          "metadata": {},
          "execution_count": 40
        }
      ]
    },
    {
      "cell_type": "code",
      "source": [
        "print(counter.most_common(5))"
      ],
      "metadata": {
        "colab": {
          "base_uri": "https://localhost:8080/"
        },
        "id": "06o5n30qGGI9",
        "outputId": "7db859e6-2b21-49d7-ded0-0d1b01a16826"
      },
      "execution_count": 43,
      "outputs": [
        {
          "output_type": "stream",
          "name": "stdout",
          "text": [
            "[('de', 7175), ('research', 6464), ('et', 4681), ('digital', 4408), ('la', 4065)]\n"
          ]
        }
      ]
    },
    {
      "cell_type": "code",
      "source": [
        "from collections import Counter ###\n",
        "def count_words(df, column='tokens', preprocess=None, min_freq=2):\n",
        "\n",
        "    # process tokens and update counter\n",
        "    def update(doc):\n",
        "        tokens = doc if preprocess is None else preprocess(doc)\n",
        "        counter.update(tokens)\n",
        "\n",
        "    # create counter and run through all data\n",
        "    counter = Counter()\n",
        "    df[column].map(update)\n",
        "\n",
        "    # transform counter into data frame\n",
        "    freq_df = pd.DataFrame.from_dict(counter, orient='index', columns=['freq'])\n",
        "    freq_df = freq_df.query('freq >= @min_freq')\n",
        "    freq_df.index.name = 'token'\n",
        "    \n",
        "    return freq_df.sort_values('freq', ascending=False)"
      ],
      "metadata": {
        "id": "0wVUo9cAHBNr"
      },
      "execution_count": 49,
      "outputs": []
    },
    {
      "cell_type": "code",
      "source": [
        "freq_df = count_words(df)\n",
        "freq_df.head(5)"
      ],
      "metadata": {
        "colab": {
          "base_uri": "https://localhost:8080/",
          "height": 237
        },
        "id": "Qii0pmB_HE6W",
        "outputId": "b7830640-3083-4516-d4a0-944599749885"
      },
      "execution_count": 50,
      "outputs": [
        {
          "output_type": "execute_result",
          "data": {
            "text/plain": [
              "          freq\n",
              "token         \n",
              "de        7175\n",
              "research  6464\n",
              "et        4681\n",
              "digital   4408\n",
              "la        4065"
            ],
            "text/html": [
              "\n",
              "  <div id=\"df-0ed7f5ab-f6d3-49cd-9047-61c22ec0094e\">\n",
              "    <div class=\"colab-df-container\">\n",
              "      <div>\n",
              "<style scoped>\n",
              "    .dataframe tbody tr th:only-of-type {\n",
              "        vertical-align: middle;\n",
              "    }\n",
              "\n",
              "    .dataframe tbody tr th {\n",
              "        vertical-align: top;\n",
              "    }\n",
              "\n",
              "    .dataframe thead th {\n",
              "        text-align: right;\n",
              "    }\n",
              "</style>\n",
              "<table border=\"1\" class=\"dataframe\">\n",
              "  <thead>\n",
              "    <tr style=\"text-align: right;\">\n",
              "      <th></th>\n",
              "      <th>freq</th>\n",
              "    </tr>\n",
              "    <tr>\n",
              "      <th>token</th>\n",
              "      <th></th>\n",
              "    </tr>\n",
              "  </thead>\n",
              "  <tbody>\n",
              "    <tr>\n",
              "      <th>de</th>\n",
              "      <td>7175</td>\n",
              "    </tr>\n",
              "    <tr>\n",
              "      <th>research</th>\n",
              "      <td>6464</td>\n",
              "    </tr>\n",
              "    <tr>\n",
              "      <th>et</th>\n",
              "      <td>4681</td>\n",
              "    </tr>\n",
              "    <tr>\n",
              "      <th>digital</th>\n",
              "      <td>4408</td>\n",
              "    </tr>\n",
              "    <tr>\n",
              "      <th>la</th>\n",
              "      <td>4065</td>\n",
              "    </tr>\n",
              "  </tbody>\n",
              "</table>\n",
              "</div>\n",
              "      <button class=\"colab-df-convert\" onclick=\"convertToInteractive('df-0ed7f5ab-f6d3-49cd-9047-61c22ec0094e')\"\n",
              "              title=\"Convert this dataframe to an interactive table.\"\n",
              "              style=\"display:none;\">\n",
              "        \n",
              "  <svg xmlns=\"http://www.w3.org/2000/svg\" height=\"24px\"viewBox=\"0 0 24 24\"\n",
              "       width=\"24px\">\n",
              "    <path d=\"M0 0h24v24H0V0z\" fill=\"none\"/>\n",
              "    <path d=\"M18.56 5.44l.94 2.06.94-2.06 2.06-.94-2.06-.94-.94-2.06-.94 2.06-2.06.94zm-11 1L8.5 8.5l.94-2.06 2.06-.94-2.06-.94L8.5 2.5l-.94 2.06-2.06.94zm10 10l.94 2.06.94-2.06 2.06-.94-2.06-.94-.94-2.06-.94 2.06-2.06.94z\"/><path d=\"M17.41 7.96l-1.37-1.37c-.4-.4-.92-.59-1.43-.59-.52 0-1.04.2-1.43.59L10.3 9.45l-7.72 7.72c-.78.78-.78 2.05 0 2.83L4 21.41c.39.39.9.59 1.41.59.51 0 1.02-.2 1.41-.59l7.78-7.78 2.81-2.81c.8-.78.8-2.07 0-2.86zM5.41 20L4 18.59l7.72-7.72 1.47 1.35L5.41 20z\"/>\n",
              "  </svg>\n",
              "      </button>\n",
              "      \n",
              "  <style>\n",
              "    .colab-df-container {\n",
              "      display:flex;\n",
              "      flex-wrap:wrap;\n",
              "      gap: 12px;\n",
              "    }\n",
              "\n",
              "    .colab-df-convert {\n",
              "      background-color: #E8F0FE;\n",
              "      border: none;\n",
              "      border-radius: 50%;\n",
              "      cursor: pointer;\n",
              "      display: none;\n",
              "      fill: #1967D2;\n",
              "      height: 32px;\n",
              "      padding: 0 0 0 0;\n",
              "      width: 32px;\n",
              "    }\n",
              "\n",
              "    .colab-df-convert:hover {\n",
              "      background-color: #E2EBFA;\n",
              "      box-shadow: 0px 1px 2px rgba(60, 64, 67, 0.3), 0px 1px 3px 1px rgba(60, 64, 67, 0.15);\n",
              "      fill: #174EA6;\n",
              "    }\n",
              "\n",
              "    [theme=dark] .colab-df-convert {\n",
              "      background-color: #3B4455;\n",
              "      fill: #D2E3FC;\n",
              "    }\n",
              "\n",
              "    [theme=dark] .colab-df-convert:hover {\n",
              "      background-color: #434B5C;\n",
              "      box-shadow: 0px 1px 3px 1px rgba(0, 0, 0, 0.15);\n",
              "      filter: drop-shadow(0px 1px 2px rgba(0, 0, 0, 0.3));\n",
              "      fill: #FFFFFF;\n",
              "    }\n",
              "  </style>\n",
              "\n",
              "      <script>\n",
              "        const buttonEl =\n",
              "          document.querySelector('#df-0ed7f5ab-f6d3-49cd-9047-61c22ec0094e button.colab-df-convert');\n",
              "        buttonEl.style.display =\n",
              "          google.colab.kernel.accessAllowed ? 'block' : 'none';\n",
              "\n",
              "        async function convertToInteractive(key) {\n",
              "          const element = document.querySelector('#df-0ed7f5ab-f6d3-49cd-9047-61c22ec0094e');\n",
              "          const dataTable =\n",
              "            await google.colab.kernel.invokeFunction('convertToInteractive',\n",
              "                                                     [key], {});\n",
              "          if (!dataTable) return;\n",
              "\n",
              "          const docLinkHtml = 'Like what you see? Visit the ' +\n",
              "            '<a target=\"_blank\" href=https://colab.research.google.com/notebooks/data_table.ipynb>data table notebook</a>'\n",
              "            + ' to learn more about interactive tables.';\n",
              "          element.innerHTML = '';\n",
              "          dataTable['output_type'] = 'display_data';\n",
              "          await google.colab.output.renderOutput(dataTable, element);\n",
              "          const docLink = document.createElement('div');\n",
              "          docLink.innerHTML = docLinkHtml;\n",
              "          element.appendChild(docLink);\n",
              "        }\n",
              "      </script>\n",
              "    </div>\n",
              "  </div>\n",
              "  "
            ]
          },
          "metadata": {},
          "execution_count": 50
        }
      ]
    },
    {
      "cell_type": "code",
      "source": [
        "# top words with 10+ characters\n",
        "count_words(df, column='text', \n",
        "            preprocess=lambda text: re.findall(r\"\\w{10,}\", text)).head(15)"
      ],
      "metadata": {
        "colab": {
          "base_uri": "https://localhost:8080/",
          "height": 551
        },
        "id": "-HSRN-IEHNpi",
        "outputId": "7727536a-2ee4-4c37-8c43-42483a7aa936"
      },
      "execution_count": 55,
      "outputs": [
        {
          "output_type": "execute_result",
          "data": {
            "text/plain": [
              "               freq\n",
              "token              \n",
              "University     2248\n",
              "Humanities     1704\n",
              "humanities     1620\n",
              "information    1344\n",
              "Communication  1331\n",
              "scholarship    1101\n",
              "electronic      957\n",
              "collaboration   939\n",
              "development     860\n",
              "communication   819\n",
              "researchers     786\n",
              "Electronic      679\n",
              "Information     656\n",
              "production      607\n",
              "environment     589"
            ],
            "text/html": [
              "\n",
              "  <div id=\"df-a7316944-a89d-4922-803b-d14aa8058b4e\">\n",
              "    <div class=\"colab-df-container\">\n",
              "      <div>\n",
              "<style scoped>\n",
              "    .dataframe tbody tr th:only-of-type {\n",
              "        vertical-align: middle;\n",
              "    }\n",
              "\n",
              "    .dataframe tbody tr th {\n",
              "        vertical-align: top;\n",
              "    }\n",
              "\n",
              "    .dataframe thead th {\n",
              "        text-align: right;\n",
              "    }\n",
              "</style>\n",
              "<table border=\"1\" class=\"dataframe\">\n",
              "  <thead>\n",
              "    <tr style=\"text-align: right;\">\n",
              "      <th></th>\n",
              "      <th>freq</th>\n",
              "    </tr>\n",
              "    <tr>\n",
              "      <th>token</th>\n",
              "      <th></th>\n",
              "    </tr>\n",
              "  </thead>\n",
              "  <tbody>\n",
              "    <tr>\n",
              "      <th>University</th>\n",
              "      <td>2248</td>\n",
              "    </tr>\n",
              "    <tr>\n",
              "      <th>Humanities</th>\n",
              "      <td>1704</td>\n",
              "    </tr>\n",
              "    <tr>\n",
              "      <th>humanities</th>\n",
              "      <td>1620</td>\n",
              "    </tr>\n",
              "    <tr>\n",
              "      <th>information</th>\n",
              "      <td>1344</td>\n",
              "    </tr>\n",
              "    <tr>\n",
              "      <th>Communication</th>\n",
              "      <td>1331</td>\n",
              "    </tr>\n",
              "    <tr>\n",
              "      <th>scholarship</th>\n",
              "      <td>1101</td>\n",
              "    </tr>\n",
              "    <tr>\n",
              "      <th>electronic</th>\n",
              "      <td>957</td>\n",
              "    </tr>\n",
              "    <tr>\n",
              "      <th>collaboration</th>\n",
              "      <td>939</td>\n",
              "    </tr>\n",
              "    <tr>\n",
              "      <th>development</th>\n",
              "      <td>860</td>\n",
              "    </tr>\n",
              "    <tr>\n",
              "      <th>communication</th>\n",
              "      <td>819</td>\n",
              "    </tr>\n",
              "    <tr>\n",
              "      <th>researchers</th>\n",
              "      <td>786</td>\n",
              "    </tr>\n",
              "    <tr>\n",
              "      <th>Electronic</th>\n",
              "      <td>679</td>\n",
              "    </tr>\n",
              "    <tr>\n",
              "      <th>Information</th>\n",
              "      <td>656</td>\n",
              "    </tr>\n",
              "    <tr>\n",
              "      <th>production</th>\n",
              "      <td>607</td>\n",
              "    </tr>\n",
              "    <tr>\n",
              "      <th>environment</th>\n",
              "      <td>589</td>\n",
              "    </tr>\n",
              "  </tbody>\n",
              "</table>\n",
              "</div>\n",
              "      <button class=\"colab-df-convert\" onclick=\"convertToInteractive('df-a7316944-a89d-4922-803b-d14aa8058b4e')\"\n",
              "              title=\"Convert this dataframe to an interactive table.\"\n",
              "              style=\"display:none;\">\n",
              "        \n",
              "  <svg xmlns=\"http://www.w3.org/2000/svg\" height=\"24px\"viewBox=\"0 0 24 24\"\n",
              "       width=\"24px\">\n",
              "    <path d=\"M0 0h24v24H0V0z\" fill=\"none\"/>\n",
              "    <path d=\"M18.56 5.44l.94 2.06.94-2.06 2.06-.94-2.06-.94-.94-2.06-.94 2.06-2.06.94zm-11 1L8.5 8.5l.94-2.06 2.06-.94-2.06-.94L8.5 2.5l-.94 2.06-2.06.94zm10 10l.94 2.06.94-2.06 2.06-.94-2.06-.94-.94-2.06-.94 2.06-2.06.94z\"/><path d=\"M17.41 7.96l-1.37-1.37c-.4-.4-.92-.59-1.43-.59-.52 0-1.04.2-1.43.59L10.3 9.45l-7.72 7.72c-.78.78-.78 2.05 0 2.83L4 21.41c.39.39.9.59 1.41.59.51 0 1.02-.2 1.41-.59l7.78-7.78 2.81-2.81c.8-.78.8-2.07 0-2.86zM5.41 20L4 18.59l7.72-7.72 1.47 1.35L5.41 20z\"/>\n",
              "  </svg>\n",
              "      </button>\n",
              "      \n",
              "  <style>\n",
              "    .colab-df-container {\n",
              "      display:flex;\n",
              "      flex-wrap:wrap;\n",
              "      gap: 12px;\n",
              "    }\n",
              "\n",
              "    .colab-df-convert {\n",
              "      background-color: #E8F0FE;\n",
              "      border: none;\n",
              "      border-radius: 50%;\n",
              "      cursor: pointer;\n",
              "      display: none;\n",
              "      fill: #1967D2;\n",
              "      height: 32px;\n",
              "      padding: 0 0 0 0;\n",
              "      width: 32px;\n",
              "    }\n",
              "\n",
              "    .colab-df-convert:hover {\n",
              "      background-color: #E2EBFA;\n",
              "      box-shadow: 0px 1px 2px rgba(60, 64, 67, 0.3), 0px 1px 3px 1px rgba(60, 64, 67, 0.15);\n",
              "      fill: #174EA6;\n",
              "    }\n",
              "\n",
              "    [theme=dark] .colab-df-convert {\n",
              "      background-color: #3B4455;\n",
              "      fill: #D2E3FC;\n",
              "    }\n",
              "\n",
              "    [theme=dark] .colab-df-convert:hover {\n",
              "      background-color: #434B5C;\n",
              "      box-shadow: 0px 1px 3px 1px rgba(0, 0, 0, 0.15);\n",
              "      filter: drop-shadow(0px 1px 2px rgba(0, 0, 0, 0.3));\n",
              "      fill: #FFFFFF;\n",
              "    }\n",
              "  </style>\n",
              "\n",
              "      <script>\n",
              "        const buttonEl =\n",
              "          document.querySelector('#df-a7316944-a89d-4922-803b-d14aa8058b4e button.colab-df-convert');\n",
              "        buttonEl.style.display =\n",
              "          google.colab.kernel.accessAllowed ? 'block' : 'none';\n",
              "\n",
              "        async function convertToInteractive(key) {\n",
              "          const element = document.querySelector('#df-a7316944-a89d-4922-803b-d14aa8058b4e');\n",
              "          const dataTable =\n",
              "            await google.colab.kernel.invokeFunction('convertToInteractive',\n",
              "                                                     [key], {});\n",
              "          if (!dataTable) return;\n",
              "\n",
              "          const docLinkHtml = 'Like what you see? Visit the ' +\n",
              "            '<a target=\"_blank\" href=https://colab.research.google.com/notebooks/data_table.ipynb>data table notebook</a>'\n",
              "            + ' to learn more about interactive tables.';\n",
              "          element.innerHTML = '';\n",
              "          dataTable['output_type'] = 'display_data';\n",
              "          await google.colab.output.renderOutput(dataTable, element);\n",
              "          const docLink = document.createElement('div');\n",
              "          docLink.innerHTML = docLinkHtml;\n",
              "          element.appendChild(docLink);\n",
              "        }\n",
              "      </script>\n",
              "    </div>\n",
              "  </div>\n",
              "  "
            ]
          },
          "metadata": {},
          "execution_count": 55
        }
      ]
    },
    {
      "cell_type": "markdown",
      "source": [
        "## Blueprint: Creating a Frequency Diagram"
      ],
      "metadata": {
        "id": "l2o9Q39FHZii"
      }
    },
    {
      "cell_type": "code",
      "source": [
        "ax = freq_df.head(15).plot(kind='barh', width=0.95, figsize=(8,5))\n",
        "ax.invert_yaxis()\n",
        "ax.set(xlabel='Frequency', ylabel='Token', title='Top Words')"
      ],
      "metadata": {
        "colab": {
          "base_uri": "https://localhost:8080/",
          "height": 368
        },
        "id": "w5Y9I_9QHV2y",
        "outputId": "5f2c138c-c86c-4cff-f917-36a7e5db855e"
      },
      "execution_count": 54,
      "outputs": [
        {
          "output_type": "execute_result",
          "data": {
            "text/plain": [
              "[Text(0, 0.5, 'Token'), Text(0.5, 0, 'Frequency'), Text(0.5, 1.0, 'Top Words')]"
            ]
          },
          "metadata": {},
          "execution_count": 54
        },
        {
          "output_type": "display_data",
          "data": {
            "text/plain": [
              "<Figure size 576x360 with 1 Axes>"
            ],
            "image/png": "[encoded data removed]"
          },
          "metadata": {
            "needs_background": "light"
          }
        }
      ]
    },
    {
      "cell_type": "markdown",
      "source": [
        "## Blueprint: Creating Word Clouds"
      ],
      "metadata": {
        "id": "MYkUkQsWH46i"
      }
    },
    {
      "cell_type": "code",
      "source": [],
      "metadata": {
        "id": "P3Eewdv4H_AQ"
      },
      "execution_count": null,
      "outputs": []
    }
  ]
}